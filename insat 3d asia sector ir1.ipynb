{
 "cells": [
  {
   "cell_type": "code",
   "execution_count": 6,
   "id": "7bd8d02c",
   "metadata": {
    "ExecuteTime": {
     "end_time": "2023-06-20T16:51:27.782421Z",
     "start_time": "2023-06-20T16:51:27.595681Z"
    }
   },
   "outputs": [],
   "source": [
    "from datetime import datetime, timedelta\n",
    "import cv2\n",
    "import requests\n",
    "import os\n",
    "import numpy as np\n",
    "from IPython.display import clear_output\n",
    "import concurrent.futures"
   ]
  },
  {
   "cell_type": "code",
   "execution_count": 7,
   "id": "498ce6a2",
   "metadata": {
    "ExecuteTime": {
     "end_time": "2023-06-20T16:51:27.801917Z",
     "start_time": "2023-06-20T16:51:27.784451Z"
    }
   },
   "outputs": [],
   "source": [
    "# start_date = datetime(2022, 5, 1, 0, 0)  # Start date and time\n",
    "# end_date = datetime(2022, 8, 1, 23, 30)  # End date and time\n",
    "\n",
    "end_date = datetime.now().replace(minute=(30 * round(datetime.now().minute/30))%60, second=0, microsecond=0)\n",
    "end_date = end_date - timedelta(hours=5.5)\n",
    "start_date = end_date - timedelta(days=10)\n",
    "\n",
    "interval = timedelta(minutes=30)  # 30-minute interval\n",
    "\n",
    "# http://satellite.imd.gov.in/ImageArchive/3DIMG/2023/JUN/3DIMG_26JUN2023_1800_L1B_STD_IR1_V01R00.jpg\n",
    "\n",
    "current_date = start_date\n",
    "links = []\n",
    "count = 1\n",
    "order_links = {}\n",
    "while current_date <= end_date:\n",
    "    datestamp = f\"{current_date.strftime('%Y/%b')}/3DIMG_{current_date.strftime('%d%b%Y_%H%M')}\"\n",
    "    link = f'http://satellite.imd.gov.in/ImageArchive/3DIMG/{datestamp.upper()}_L1C_ASIA_MER_IR1_V01R00.jpg'\n",
    "    # link = f'http://satellite.imd.gov.in/ImageArchive/3DIMG/{datestamp.upper()}_L1B_STD_IR1_V01R00.jpg'\n",
    "    # print(link)\n",
    "    # if requests.get(link).status_code==200:\n",
    "    links.append(link)\n",
    "    order_links[link] = count\n",
    "    current_date = current_date + interval\n",
    "    count += 1\n",
    "\n",
    "frames = []\n",
    "subfolder = \"frames\"\n",
    "os.makedirs(subfolder, exist_ok=True)"
   ]
  },
  {
   "cell_type": "code",
   "execution_count": 8,
   "id": "57a9b802",
   "metadata": {},
   "outputs": [],
   "source": [
    "def download_image(link):\n",
    "    try:\n",
    "        # Extract the filename from the link\n",
    "        filename = link.split('/')[-1]\n",
    "        file_path = os.path.join(subfolder, filename)\n",
    "        # Check if the file already exists\n",
    "        if os.path.isfile(file_path):\n",
    "#             print(f\"File {filename} already exists in {subfolder}. Reading from stored file.\")\n",
    "            stored_frame = cv2.imread(file_path)\n",
    "            return stored_frame, link\n",
    "        \n",
    "        response = requests.get(link, stream=True)\n",
    "        if response.status_code!=200:\n",
    "            updated_link = link.replace(\"_V01R00\", \"\")\n",
    "            response = requests.get(updated_link, stream=True)\n",
    "        response.raise_for_status()\n",
    "        image_data = response.content\n",
    "        frame = cv2.imdecode(np.frombuffer(image_data, np.uint8), cv2.IMREAD_COLOR)\n",
    "        cv2.imwrite(file_path, frame)\n",
    "        \n",
    "        return frame, link\n",
    "    except Exception as e:\n",
    "        return None, link"
   ]
  },
  {
   "cell_type": "code",
   "execution_count": 9,
   "id": "d6350a70",
   "metadata": {
    "ExecuteTime": {
     "start_time": "2023-06-20T16:51:24.972Z"
    }
   },
   "outputs": [],
   "source": [
    "frames_dict = {}\n",
    "with concurrent.futures.ThreadPoolExecutor() as executor:\n",
    "    # Submit download tasks and store the future objects\n",
    "    future_to_link = {executor.submit(download_image, link): link for link in links}\n",
    "    \n",
    "    for future in concurrent.futures.as_completed(future_to_link):\n",
    "        link = future_to_link[future]\n",
    "        \n",
    "        try:\n",
    "            frame, link = future.result()\n",
    "            if frame is not None:\n",
    "                frames_dict[order_links[link]] = frame\n",
    "#                 clear_output(wait=True)\n",
    "#                 print(f\"Downloaded image from {link}\")\n",
    "            else:\n",
    "                pass\n",
    "#                 clear_output(wait=True)\n",
    "#                 print(f\"Error downloading image from {link}\")\n",
    "        except Exception as e:\n",
    "            pass\n",
    "#             clear_output(wait=True)\n",
    "#             print(f\"Error downloading image from {link}: {e}\")\n",
    "frames = [value for key, value in sorted(frames_dict.items(), key=lambda item: item[0])]"
   ]
  },
  {
   "cell_type": "code",
   "execution_count": 10,
   "id": "c274304f",
   "metadata": {
    "ExecuteTime": {
     "end_time": "2023-06-20T17:24:11.356986Z",
     "start_time": "2023-06-20T17:22:09.207869Z"
    },
    "scrolled": true
   },
   "outputs": [
    {
     "name": "stderr",
     "output_type": "stream",
     "text": [
      "ffmpeg version 6.0 Copyright (c) 2000-2023 the FFmpeg developers\n",
      "  built with Apple clang version 14.0.3 (clang-1403.0.22.14.1)\n",
      "  configuration: --prefix=/opt/homebrew/Cellar/ffmpeg/6.0 --enable-shared --enable-pthreads --enable-version3 --cc=clang --host-cflags= --host-ldflags= --enable-ffplay --enable-gnutls --enable-gpl --enable-libaom --enable-libaribb24 --enable-libbluray --enable-libdav1d --enable-libmp3lame --enable-libopus --enable-librav1e --enable-librist --enable-librubberband --enable-libsnappy --enable-libsrt --enable-libsvtav1 --enable-libtesseract --enable-libtheora --enable-libvidstab --enable-libvmaf --enable-libvorbis --enable-libvpx --enable-libwebp --enable-libx264 --enable-libx265 --enable-libxml2 --enable-libxvid --enable-lzma --enable-libfontconfig --enable-libfreetype --enable-frei0r --enable-libass --enable-libopencore-amrnb --enable-libopencore-amrwb --enable-libopenjpeg --enable-libspeex --enable-libsoxr --enable-libzmq --enable-libzimg --disable-libjack --disable-indev=jack --enable-videotoolbox --enable-audiotoolbox --enable-neon\n",
      "  libavutil      58.  2.100 / 58.  2.100\n",
      "  libavcodec     60.  3.100 / 60.  3.100\n",
      "  libavformat    60.  3.100 / 60.  3.100\n",
      "  libavdevice    60.  1.100 / 60.  1.100\n",
      "  libavfilter     9.  3.100 /  9.  3.100\n",
      "  libswscale      7.  1.100 /  7.  1.100\n",
      "  libswresample   4. 10.100 /  4. 10.100\n",
      "  libpostproc    57.  1.100 / 57.  1.100\n",
      "Input #0, image2, from 'video_frames/frame%04d.jpg':\n",
      "  Duration: 00:00:56.88, start: 0.000000, bitrate: N/A\n",
      "  Stream #0:0: Video: mjpeg (Baseline), yuvj420p(pc, bt470bg/unknown/unknown), 1260x1410 [SAR 1:1 DAR 42:47], 8 fps, 8 tbr, 8 tbn\n",
      "Stream mapping:\n",
      "  Stream #0:0 -> #0:0 (mjpeg (native) -> h264 (libx264))\n",
      "Press [q] to stop, [?] for help\n",
      "[swscaler @ 0x120048000] deprecated pixel format used, make sure you did set range correctly\n",
      "[swscaler @ 0x158008000] deprecated pixel format used, make sure you did set range correctly\n",
      "[swscaler @ 0x120058000] deprecated pixel format used, make sure you did set range correctly\n",
      "[swscaler @ 0x1180c0000] deprecated pixel format used, make sure you did set range correctly\n",
      "[libx264 @ 0x146806d60] using SAR=1/1\n",
      "[libx264 @ 0x146806d60] using cpu capabilities: ARMv8 NEON\n",
      "[libx264 @ 0x146806d60] profile High, level 4.0, 4:2:0, 8-bit\n",
      "[libx264 @ 0x146806d60] 264 - core 164 r3095 baee400 - H.264/MPEG-4 AVC codec - Copyleft 2003-2022 - http://www.videolan.org/x264.html - options: cabac=1 ref=3 deblock=1:0:0 analyse=0x3:0x113 me=hex subme=7 psy=1 psy_rd=1.00:0.00 mixed_ref=1 me_range=16 chroma_me=1 trellis=1 8x8dct=1 cqm=0 deadzone=21,11 fast_pskip=1 chroma_qp_offset=-2 threads=12 lookahead_threads=2 sliced_threads=0 nr=0 decimate=1 interlaced=0 bluray_compat=0 constrained_intra=0 bframes=3 b_pyramid=2 b_adapt=1 b_bias=0 direct=1 weightb=1 open_gop=0 weightp=2 keyint=250 keyint_min=8 scenecut=40 intra_refresh=0 rc_lookahead=40 rc=crf mbtree=1 crf=23.0 qcomp=0.60 qpmin=0 qpmax=69 qpstep=4 ip_ratio=1.40 aq=1:1.00\n",
      "Output #0, mp4, to 'op4.mp4':\n",
      "  Metadata:\n",
      "    encoder         : Lavf60.3.100\n",
      "  Stream #0:0: Video: h264 (avc1 / 0x31637661), yuv420p(tv, bt470bg/unknown/unknown, progressive), 1260x1410 [SAR 1:1 DAR 42:47], q=2-31, 8 fps, 16384 tbn\n",
      "    Metadata:\n",
      "      encoder         : Lavc60.3.100 libx264\n",
      "    Side data:\n",
      "      cpb: bitrate max/min/avg: 0/0/0 buffer size: 0 vbv_delay: N/A\n",
      "frame=  389 fps= 20 q=24.0 size=   52736kB time=00:00:48.37 bitrate=8930.5kbits/s speed=2.49x       \r"
     ]
    },
    {
     "name": "stdout",
     "output_type": "stream",
     "text": [
      "Video created successfully!\n"
     ]
    },
    {
     "name": "stderr",
     "output_type": "stream",
     "text": [
      "frame=  455 fps= 21 q=-1.0 Lsize=   62019kB time=00:00:56.50 bitrate=8992.3kbits/s speed=2.58x    \n",
      "video:62013kB audio:0kB subtitle:0kB other streams:0kB global headers:0kB muxing overhead: 0.011052%\n",
      "[libx264 @ 0x146806d60] frame I:2     Avg QP:19.75  size:289070\n",
      "[libx264 @ 0x146806d60] frame P:114   Avg QP:22.89  size:193684\n",
      "[libx264 @ 0x146806d60] frame B:339   Avg QP:26.39  size:120478\n",
      "[libx264 @ 0x146806d60] consecutive B-frames:  0.4%  0.4%  0.7% 98.5%\n",
      "[libx264 @ 0x146806d60] mb I  I16..4: 11.6% 81.1%  7.4%\n",
      "[libx264 @ 0x146806d60] mb P  I16..4:  1.0% 40.7%  1.4%  P16..4: 15.4% 10.8% 10.3%  0.0%  0.0%    skip:20.4%\n",
      "[libx264 @ 0x146806d60] mb B  I16..4:  0.1%  4.2%  0.8%  B16..8: 16.2% 14.4%  8.8%  direct:17.7%  skip:37.8%  L0:20.3% L1:18.1% BI:61.6%\n",
      "[libx264 @ 0x146806d60] 8x8 transform intra:91.0% inter:89.6%\n",
      "[libx264 @ 0x146806d60] coded y,uvDC,uvAC intra: 85.1% 0.0% 0.0% inter: 49.6% 0.0% 0.0%\n",
      "[libx264 @ 0x146806d60] i16 v,h,dc,p: 71% 20%  5%  4%\n",
      "[libx264 @ 0x146806d60] i8 v,h,dc,ddl,ddr,vr,hd,vl,hu: 12% 14% 29%  5%  8%  7%  8%  6% 10%\n",
      "[libx264 @ 0x146806d60] i4 v,h,dc,ddl,ddr,vr,hd,vl,hu: 11% 13% 15%  8% 13%  9% 11%  8% 12%\n",
      "[libx264 @ 0x146806d60] i8c dc,h,v,p: 100%  0%  0%  0%\n",
      "[libx264 @ 0x146806d60] Weighted P-Frames: Y:57.9% UV:0.0%\n",
      "[libx264 @ 0x146806d60] ref P L0: 36.6% 23.1% 26.7%  9.9%  3.7%\n",
      "[libx264 @ 0x146806d60] ref B L0: 92.9%  5.1%  2.0%\n",
      "[libx264 @ 0x146806d60] ref B L1: 98.5%  1.5%\n",
      "[libx264 @ 0x146806d60] kb/s:8931.89\n"
     ]
    }
   ],
   "source": [
    "width = 640\n",
    "height = 480\n",
    "\n",
    "fps = 8\n",
    "\n",
    "if len(frames) > 0:\n",
    "    output_dir = \"video_frames\"\n",
    "    os.makedirs(output_dir, exist_ok=True)\n",
    "\n",
    "    for i, frame in enumerate(frames):\n",
    "        resized_frame = cv2.resize(frame, (width, height))\n",
    "        cv2.imwrite(f\"{output_dir}/frame{i:04d}.jpg\", frame)\n",
    "\n",
    "    # Convert frames to video using ffmpeg\n",
    "    # os.system(f\"ffmpeg -y -framerate 30 -i {output_dir}/frame%04d.jpg -c:v libx264 -b:v 2M -pix_fmt yuv420p wa_output.mp4\")\n",
    "    os.system(f\"ffmpeg -y -framerate {fps} -i {output_dir}/frame%04d.jpg -c:v libx264 -pix_fmt yuv420p output.mp4\")\n",
    "\n",
    "    # Cleanup frames directory\n",
    "    os.system(f\"rm -rf {output_dir}\")\n",
    "\n",
    "print(\"Video created successfully!\")"
   ]
  },
  {
   "cell_type": "code",
   "execution_count": null,
   "id": "d52225e9",
   "metadata": {},
   "outputs": [],
   "source": []
  }
 ],
 "metadata": {
  "kernelspec": {
   "display_name": "Python 3 (ipykernel)",
   "language": "python",
   "name": "python3"
  },
  "language_info": {
   "codemirror_mode": {
    "name": "ipython",
    "version": 3
   },
   "file_extension": ".py",
   "mimetype": "text/x-python",
   "name": "python",
   "nbconvert_exporter": "python",
   "pygments_lexer": "ipython3",
   "version": "3.11.4"
  }
 },
 "nbformat": 4,
 "nbformat_minor": 5
}
