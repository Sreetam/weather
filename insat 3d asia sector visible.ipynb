{
 "cells": [
  {
   "cell_type": "code",
   "execution_count": 6,
   "id": "7bd8d02c",
   "metadata": {
    "ExecuteTime": {
     "end_time": "2023-06-20T16:51:27.782421Z",
     "start_time": "2023-06-20T16:51:27.595681Z"
    }
   },
   "outputs": [],
   "source": [
    "from datetime import datetime, timedelta\n",
    "import cv2\n",
    "import requests\n",
    "import os\n",
    "import numpy as np\n",
    "from IPython.display import clear_output\n",
    "import concurrent.futures"
   ]
  },
  {
   "cell_type": "code",
   "execution_count": 7,
   "id": "498ce6a2",
   "metadata": {
    "ExecuteTime": {
     "end_time": "2023-06-20T16:51:27.801917Z",
     "start_time": "2023-06-20T16:51:27.784451Z"
    }
   },
   "outputs": [],
   "source": [
    "start_date = datetime(2023, 5, 1, 0, 0)  # Start date and time\n",
    "end_date = datetime(2023, 6, 20, 23, 30)  # End date and time\n",
    "\n",
    "end_date = datetime.now().replace(minute=(30 * round(datetime.now().minute/30))%60, second=0, microsecond=0)\n",
    "end_date = end_date - timedelta(hours=5.5)\n",
    "start_date = end_date - timedelta(days=7)\n",
    "\n",
    "interval = timedelta(minutes=30)  # 30-minute interval\n",
    "\n",
    "current_date = start_date\n",
    "links = []\n",
    "count = 1\n",
    "while current_date <= end_date and count<1000:\n",
    "    datestamp = f\"{current_date.strftime('%Y/%b')}/3DIMG_{current_date.strftime('%d%b%Y_%H%M')}\"\n",
    "    link = f'http://satellite.imd.gov.in/ImageArchive/3DIMG/{datestamp.upper()}_L1C_ASIA_MER_VIS_V01R00.jpg'\n",
    "    # print(link)\n",
    "    # if requests.get(link).status_code==200:\n",
    "    links.append(link)\n",
    "    current_date = current_date + interval\n",
    "    count += 1\n",
    "\n",
    "frames = []\n",
    "subfolder = \"frames\"\n",
    "os.makedirs(subfolder, exist_ok=True)"
   ]
  },
  {
   "cell_type": "code",
   "execution_count": 8,
   "id": "57a9b802",
   "metadata": {},
   "outputs": [],
   "source": [
    "def download_image(link):\n",
    "    try:\n",
    "        # Extract the filename from the link\n",
    "        filename = link.split('/')[-1]\n",
    "        file_path = os.path.join(subfolder, filename)\n",
    "        # Check if the file already exists\n",
    "        if os.path.isfile(file_path):\n",
    "            print(f\"File {filename} already exists in {subfolder}. Reading from stored file.\")\n",
    "            stored_frame = cv2.imread(file_path)\n",
    "            return stored_frame, link\n",
    "        \n",
    "        response = requests.get(link, stream=True)\n",
    "        response.raise_for_status()\n",
    "        image_data = response.content\n",
    "        frame = cv2.imdecode(np.frombuffer(image_data, np.uint8), cv2.IMREAD_COLOR)\n",
    "        cv2.imwrite(file_path, frame)\n",
    "        \n",
    "        return frame, link\n",
    "    except Exception as e:\n",
    "        return None, link"
   ]
  },
  {
   "cell_type": "code",
   "execution_count": 9,
   "id": "d6350a70",
   "metadata": {
    "ExecuteTime": {
     "start_time": "2023-06-20T16:51:24.972Z"
    }
   },
   "outputs": [
    {
     "name": "stdout",
     "output_type": "stream",
     "text": [
      "Downloaded image from http://satellite.imd.gov.in/ImageArchive/3DIMG/2023/JUN/3DIMG_21JUN2023_1000_L1C_ASIA_MER_VIS_V01R00.jpg\n"
     ]
    }
   ],
   "source": [
    "frames_dict = {}\n",
    "with concurrent.futures.ThreadPoolExecutor() as executor:\n",
    "    # Submit download tasks and store the future objects\n",
    "    future_to_link = {executor.submit(download_image, link): link for link in links}\n",
    "    \n",
    "    for future in concurrent.futures.as_completed(future_to_link):\n",
    "        link = future_to_link[future]\n",
    "        \n",
    "        try:\n",
    "            frame, link = future.result()\n",
    "            if frame is not None:\n",
    "                frames_dict[link] = frame\n",
    "                clear_output(wait=True)\n",
    "                print(f\"Downloaded image from {link}\")\n",
    "            else:\n",
    "                clear_output(wait=True)\n",
    "                print(f\"Error downloading image from {link}\")\n",
    "        except Exception as e:\n",
    "            clear_output(wait=True)\n",
    "            print(f\"Error downloading image from {link}: {e}\")\n",
    "frames = [value for key, value in sorted(frames_dict.items(), key=lambda item: item[0])]"
   ]
  },
  {
   "cell_type": "code",
   "execution_count": 11,
   "id": "c274304f",
   "metadata": {
    "ExecuteTime": {
     "end_time": "2023-06-20T17:24:11.356986Z",
     "start_time": "2023-06-20T17:22:09.207869Z"
    },
    "scrolled": true
   },
   "outputs": [
    {
     "name": "stderr",
     "output_type": "stream",
     "text": [
      "ffmpeg version 6.0 Copyright (c) 2000-2023 the FFmpeg developers\n",
      "  built with Apple clang version 14.0.3 (clang-1403.0.22.14.1)\n",
      "  configuration: --prefix=/opt/homebrew/Cellar/ffmpeg/6.0 --enable-shared --enable-pthreads --enable-version3 --cc=clang --host-cflags= --host-ldflags= --enable-ffplay --enable-gnutls --enable-gpl --enable-libaom --enable-libaribb24 --enable-libbluray --enable-libdav1d --enable-libmp3lame --enable-libopus --enable-librav1e --enable-librist --enable-librubberband --enable-libsnappy --enable-libsrt --enable-libsvtav1 --enable-libtesseract --enable-libtheora --enable-libvidstab --enable-libvmaf --enable-libvorbis --enable-libvpx --enable-libwebp --enable-libx264 --enable-libx265 --enable-libxml2 --enable-libxvid --enable-lzma --enable-libfontconfig --enable-libfreetype --enable-frei0r --enable-libass --enable-libopencore-amrnb --enable-libopencore-amrwb --enable-libopenjpeg --enable-libspeex --enable-libsoxr --enable-libzmq --enable-libzimg --disable-libjack --disable-indev=jack --enable-videotoolbox --enable-audiotoolbox --enable-neon\n",
      "  libavutil      58.  2.100 / 58.  2.100\n",
      "  libavcodec     60.  3.100 / 60.  3.100\n",
      "  libavformat    60.  3.100 / 60.  3.100\n",
      "  libavdevice    60.  1.100 / 60.  1.100\n",
      "  libavfilter     9.  3.100 /  9.  3.100\n",
      "  libswscale      7.  1.100 /  7.  1.100\n",
      "  libswresample   4. 10.100 /  4. 10.100\n",
      "  libpostproc    57.  1.100 / 57.  1.100\n",
      "Input #0, image2, from 'video_frames/frame%04d.jpg':\n",
      "  Duration: 00:00:21.33, start: 0.000000, bitrate: N/A\n",
      "  Stream #0:0: Video: mjpeg (Baseline), yuvj420p(pc, bt470bg/unknown/unknown), 1260x1418 [SAR 1:1 DAR 630:709], 15 fps, 15 tbr, 15 tbn\n",
      "Stream mapping:\n",
      "  Stream #0:0 -> #0:0 (mjpeg (native) -> h264 (libx264))\n",
      "Press [q] to stop, [?] for help\n",
      "[swscaler @ 0x110160000] deprecated pixel format used, make sure you did set range correctly\n",
      "[swscaler @ 0x158068000] deprecated pixel format used, make sure you did set range correctly\n",
      "[swscaler @ 0x1482e0000] deprecated pixel format used, make sure you did set range correctly\n",
      "[swscaler @ 0x1181a8000] deprecated pixel format used, make sure you did set range correctly\n",
      "[libx264 @ 0x127f06300] using SAR=1/1\n",
      "[libx264 @ 0x127f06300] using cpu capabilities: ARMv8 NEON\n",
      "[libx264 @ 0x127f06300] profile High, level 4.0, 4:2:0, 8-bit\n",
      "[libx264 @ 0x127f06300] 264 - core 164 r3095 baee400 - H.264/MPEG-4 AVC codec - Copyleft 2003-2022 - http://www.videolan.org/x264.html - options: cabac=1 ref=3 deblock=1:0:0 analyse=0x3:0x113 me=hex subme=7 psy=1 psy_rd=1.00:0.00 mixed_ref=1 me_range=16 chroma_me=1 trellis=1 8x8dct=1 cqm=0 deadzone=21,11 fast_pskip=1 chroma_qp_offset=-2 threads=12 lookahead_threads=2 sliced_threads=0 nr=0 decimate=1 interlaced=0 bluray_compat=0 constrained_intra=0 bframes=3 b_pyramid=2 b_adapt=1 b_bias=0 direct=1 weightb=1 open_gop=0 weightp=2 keyint=250 keyint_min=15 scenecut=40 intra_refresh=0 rc_lookahead=40 rc=crf mbtree=1 crf=23.0 qcomp=0.60 qpmin=0 qpmax=69 qpstep=4 ip_ratio=1.40 aq=1:1.00\n",
      "Output #0, mp4, to 'output.mp4':\n",
      "  Metadata:\n",
      "    encoder         : Lavf60.3.100\n",
      "  Stream #0:0: Video: h264 (avc1 / 0x31637661), yuv420p(tv, bt470bg/unknown/unknown, progressive), 1260x1418 [SAR 1:1 DAR 630:709], q=2-31, 15 fps, 15360 tbn\n",
      "    Metadata:\n",
      "      encoder         : Lavc60.3.100 libx264\n",
      "    Side data:\n",
      "      cpb: bitrate max/min/avg: 0/0/0 buffer size: 0 vbv_delay: N/A\n",
      "frame=  260 fps= 11 q=27.0 size=   46592kB time=00:00:17.20 bitrate=22190.8kbits/s speed=0.753x    \r"
     ]
    },
    {
     "name": "stdout",
     "output_type": "stream",
     "text": [
      "Video created successfully!\n"
     ]
    },
    {
     "name": "stderr",
     "output_type": "stream",
     "text": [
      "frame=  320 fps= 12 q=-1.0 Lsize=   57288kB time=00:00:21.13 bitrate=22207.0kbits/s speed=0.818x    \n",
      "video:57283kB audio:0kB subtitle:0kB other streams:0kB global headers:0kB muxing overhead: 0.008882%\n",
      "[libx264 @ 0x127f06300] frame I:6     Avg QP:23.50  size:332868\n",
      "[libx264 @ 0x127f06300] frame P:117   Avg QP:26.22  size:235335\n",
      "[libx264 @ 0x127f06300] frame B:197   Avg QP:27.40  size:147848\n",
      "[libx264 @ 0x127f06300] consecutive B-frames: 14.7%  8.1%  4.7% 72.5%\n",
      "[libx264 @ 0x127f06300] mb I  I16..4:  8.6% 84.2%  7.2%\n",
      "[libx264 @ 0x127f06300] mb P  I16..4:  3.0% 61.0%  3.4%  P16..4: 13.7%  5.7%  4.3%  0.0%  0.0%    skip: 8.9%\n",
      "[libx264 @ 0x127f06300] mb B  I16..4:  1.3% 22.0%  2.9%  B16..8: 15.9% 11.2%  5.7%  direct:12.5%  skip:28.5%  L0:33.5% L1:26.4% BI:40.1%\n",
      "[libx264 @ 0x127f06300] 8x8 transform intra:87.8% inter:88.6%\n",
      "[libx264 @ 0x127f06300] coded y,uvDC,uvAC intra: 87.6% 2.0% 1.8% inter: 50.2% 1.2% 0.4%\n",
      "[libx264 @ 0x127f06300] i16 v,h,dc,p: 51% 38%  8%  3%\n",
      "[libx264 @ 0x127f06300] i8 v,h,dc,ddl,ddr,vr,hd,vl,hu:  9% 22% 35%  5%  5%  4%  6%  5% 10%\n",
      "[libx264 @ 0x127f06300] i4 v,h,dc,ddl,ddr,vr,hd,vl,hu: 14% 23% 16%  7%  8%  7%  8%  7% 10%\n",
      "[libx264 @ 0x127f06300] i8c dc,h,v,p: 96%  2%  1%  0%\n",
      "[libx264 @ 0x127f06300] Weighted P-Frames: Y:48.7% UV:23.9%\n",
      "[libx264 @ 0x127f06300] ref P L0: 40.4% 17.2% 26.0% 11.4%  4.9%\n",
      "[libx264 @ 0x127f06300] ref B L0: 84.9% 11.1%  4.0%\n",
      "[libx264 @ 0x127f06300] ref B L1: 96.7%  3.3%\n",
      "[libx264 @ 0x127f06300] kb/s:21996.55\n"
     ]
    }
   ],
   "source": [
    "width = 640\n",
    "height = 480\n",
    "\n",
    "fps = 15\n",
    "\n",
    "if len(frames) > 0:\n",
    "    output_dir = \"video_frames\"\n",
    "    os.makedirs(output_dir, exist_ok=True)\n",
    "\n",
    "    for i, frame in enumerate(frames):\n",
    "        resized_frame = cv2.resize(frame, (width, height))\n",
    "        cv2.imwrite(f\"{output_dir}/frame{i:04d}.jpg\", frame)\n",
    "\n",
    "    # Convert frames to video using ffmpeg\n",
    "    # os.system(f\"ffmpeg -y -framerate 30 -i {output_dir}/frame%04d.jpg -c:v libx264 -b:v 2M -pix_fmt yuv420p wa_output.mp4\")\n",
    "    os.system(f\"ffmpeg -y -framerate {fps} -i {output_dir}/frame%04d.jpg -c:v libx264 -pix_fmt yuv420p output.mp4\")\n",
    "\n",
    "    # Cleanup frames directory\n",
    "    os.system(f\"rm -rf {output_dir}\")\n",
    "\n",
    "print(\"Video created successfully!\")"
   ]
  }
 ],
 "metadata": {
  "kernelspec": {
   "display_name": "Python 3",
   "language": "python",
   "name": "python3"
  },
  "language_info": {
   "codemirror_mode": {
    "name": "ipython",
    "version": 3
   },
   "file_extension": ".py",
   "mimetype": "text/x-python",
   "name": "python",
   "nbconvert_exporter": "python",
   "pygments_lexer": "ipython3",
   "version": "3.11.4"
  }
 },
 "nbformat": 4,
 "nbformat_minor": 5
}
